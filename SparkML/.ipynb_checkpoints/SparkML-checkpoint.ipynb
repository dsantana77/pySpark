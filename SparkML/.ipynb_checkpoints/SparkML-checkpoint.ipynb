{
 "cells": [
  {
   "cell_type": "code",
   "execution_count": 3,
   "metadata": {
    "colab": {
     "base_uri": "https://localhost:8080/"
    },
    "id": "MFelRknTeUsG",
    "outputId": "06aeae34-1e2c-4486-8aab-a3abdaf8deb3"
   },
   "outputs": [],
   "source": [
    "\n",
    "\n",
    "# Iniciar a sessão spark\n",
    "from pyspark.sql import SparkSession\n",
    "\n",
    "spark = (\n",
    "    SparkSession.builder                  \n",
    "      .config('spark.ui.port', '4050')\n",
    "      .appName(\"SparkSQL\")\n",
    "      .getOrCreate()\n",
    ")\n",
    "\n"
   ]
  },
  {
   "cell_type": "code",
   "execution_count": 5,
   "metadata": {
    "id": "_DdeCEvAg25a"
   },
   "outputs": [
    {
     "ename": "AnalysisException",
     "evalue": "[PATH_NOT_FOUND] Path does not exist: file:/C:/Users/dsant/Downloads/Estudos DNC/spark2/SparkML/drive/MyDrive/Colab Notebooks/case_final.json.",
     "output_type": "error",
     "traceback": [
      "\u001b[1;31m---------------------------------------------------------------------------\u001b[0m",
      "\u001b[1;31mAnalysisException\u001b[0m                         Traceback (most recent call last)",
      "\u001b[1;32m~\\AppData\\Local\\Temp\\ipykernel_27544\\2262150885.py\u001b[0m in \u001b[0;36m<module>\u001b[1;34m\u001b[0m\n\u001b[0;32m     20\u001b[0m \u001b[0mcaminho_json\u001b[0m \u001b[1;33m=\u001b[0m \u001b[1;34m'drive/MyDrive/Colab Notebooks/case_final.json'\u001b[0m\u001b[1;33m\u001b[0m\u001b[1;33m\u001b[0m\u001b[0m\n\u001b[0;32m     21\u001b[0m \u001b[1;33m\u001b[0m\u001b[0m\n\u001b[1;32m---> 22\u001b[1;33m df = spark.read.json(\n\u001b[0m\u001b[0;32m     23\u001b[0m     \u001b[0mcaminho_json\u001b[0m\u001b[1;33m,\u001b[0m\u001b[1;33m\u001b[0m\u001b[1;33m\u001b[0m\u001b[0m\n\u001b[0;32m     24\u001b[0m     \u001b[0mschema\u001b[0m\u001b[1;33m=\u001b[0m\u001b[0mschema_base_pix\u001b[0m\u001b[1;33m,\u001b[0m\u001b[1;33m\u001b[0m\u001b[1;33m\u001b[0m\u001b[0m\n",
      "\u001b[1;32m~\\anaconda3\\lib\\site-packages\\pyspark\\sql\\readwriter.py\u001b[0m in \u001b[0;36mjson\u001b[1;34m(self, path, schema, primitivesAsString, prefersDecimal, allowComments, allowUnquotedFieldNames, allowSingleQuotes, allowNumericLeadingZero, allowBackslashEscapingAnyCharacter, mode, columnNameOfCorruptRecord, dateFormat, timestampFormat, multiLine, allowUnquotedControlChars, lineSep, samplingRatio, dropFieldIfAllNull, encoding, locale, pathGlobFilter, recursiveFileLookup, modifiedBefore, modifiedAfter, allowNonNumericNumbers)\u001b[0m\n\u001b[0;32m    423\u001b[0m         \u001b[1;32mif\u001b[0m \u001b[0mtype\u001b[0m\u001b[1;33m(\u001b[0m\u001b[0mpath\u001b[0m\u001b[1;33m)\u001b[0m \u001b[1;33m==\u001b[0m \u001b[0mlist\u001b[0m\u001b[1;33m:\u001b[0m\u001b[1;33m\u001b[0m\u001b[1;33m\u001b[0m\u001b[0m\n\u001b[0;32m    424\u001b[0m             \u001b[1;32massert\u001b[0m \u001b[0mself\u001b[0m\u001b[1;33m.\u001b[0m\u001b[0m_spark\u001b[0m\u001b[1;33m.\u001b[0m\u001b[0m_sc\u001b[0m\u001b[1;33m.\u001b[0m\u001b[0m_jvm\u001b[0m \u001b[1;32mis\u001b[0m \u001b[1;32mnot\u001b[0m \u001b[1;32mNone\u001b[0m\u001b[1;33m\u001b[0m\u001b[1;33m\u001b[0m\u001b[0m\n\u001b[1;32m--> 425\u001b[1;33m             \u001b[1;32mreturn\u001b[0m \u001b[0mself\u001b[0m\u001b[1;33m.\u001b[0m\u001b[0m_df\u001b[0m\u001b[1;33m(\u001b[0m\u001b[0mself\u001b[0m\u001b[1;33m.\u001b[0m\u001b[0m_jreader\u001b[0m\u001b[1;33m.\u001b[0m\u001b[0mjson\u001b[0m\u001b[1;33m(\u001b[0m\u001b[0mself\u001b[0m\u001b[1;33m.\u001b[0m\u001b[0m_spark\u001b[0m\u001b[1;33m.\u001b[0m\u001b[0m_sc\u001b[0m\u001b[1;33m.\u001b[0m\u001b[0m_jvm\u001b[0m\u001b[1;33m.\u001b[0m\u001b[0mPythonUtils\u001b[0m\u001b[1;33m.\u001b[0m\u001b[0mtoSeq\u001b[0m\u001b[1;33m(\u001b[0m\u001b[0mpath\u001b[0m\u001b[1;33m)\u001b[0m\u001b[1;33m)\u001b[0m\u001b[1;33m)\u001b[0m\u001b[1;33m\u001b[0m\u001b[1;33m\u001b[0m\u001b[0m\n\u001b[0m\u001b[0;32m    426\u001b[0m         \u001b[1;32melif\u001b[0m \u001b[0misinstance\u001b[0m\u001b[1;33m(\u001b[0m\u001b[0mpath\u001b[0m\u001b[1;33m,\u001b[0m \u001b[0mRDD\u001b[0m\u001b[1;33m)\u001b[0m\u001b[1;33m:\u001b[0m\u001b[1;33m\u001b[0m\u001b[1;33m\u001b[0m\u001b[0m\n\u001b[0;32m    427\u001b[0m \u001b[1;33m\u001b[0m\u001b[0m\n",
      "\u001b[1;32m~\\anaconda3\\lib\\site-packages\\py4j\\java_gateway.py\u001b[0m in \u001b[0;36m__call__\u001b[1;34m(self, *args)\u001b[0m\n\u001b[0;32m   1320\u001b[0m \u001b[1;33m\u001b[0m\u001b[0m\n\u001b[0;32m   1321\u001b[0m         \u001b[0manswer\u001b[0m \u001b[1;33m=\u001b[0m \u001b[0mself\u001b[0m\u001b[1;33m.\u001b[0m\u001b[0mgateway_client\u001b[0m\u001b[1;33m.\u001b[0m\u001b[0msend_command\u001b[0m\u001b[1;33m(\u001b[0m\u001b[0mcommand\u001b[0m\u001b[1;33m)\u001b[0m\u001b[1;33m\u001b[0m\u001b[1;33m\u001b[0m\u001b[0m\n\u001b[1;32m-> 1322\u001b[1;33m         return_value = get_return_value(\n\u001b[0m\u001b[0;32m   1323\u001b[0m             answer, self.gateway_client, self.target_id, self.name)\n\u001b[0;32m   1324\u001b[0m \u001b[1;33m\u001b[0m\u001b[0m\n",
      "\u001b[1;32m~\\anaconda3\\lib\\site-packages\\pyspark\\errors\\exceptions\\captured.py\u001b[0m in \u001b[0;36mdeco\u001b[1;34m(*a, **kw)\u001b[0m\n\u001b[0;32m    183\u001b[0m                 \u001b[1;31m# Hide where the exception came from that shows a non-Pythonic\u001b[0m\u001b[1;33m\u001b[0m\u001b[1;33m\u001b[0m\u001b[0m\n\u001b[0;32m    184\u001b[0m                 \u001b[1;31m# JVM exception message.\u001b[0m\u001b[1;33m\u001b[0m\u001b[1;33m\u001b[0m\u001b[0m\n\u001b[1;32m--> 185\u001b[1;33m                 \u001b[1;32mraise\u001b[0m \u001b[0mconverted\u001b[0m \u001b[1;32mfrom\u001b[0m \u001b[1;32mNone\u001b[0m\u001b[1;33m\u001b[0m\u001b[1;33m\u001b[0m\u001b[0m\n\u001b[0m\u001b[0;32m    186\u001b[0m             \u001b[1;32melse\u001b[0m\u001b[1;33m:\u001b[0m\u001b[1;33m\u001b[0m\u001b[1;33m\u001b[0m\u001b[0m\n\u001b[0;32m    187\u001b[0m                 \u001b[1;32mraise\u001b[0m\u001b[1;33m\u001b[0m\u001b[1;33m\u001b[0m\u001b[0m\n",
      "\u001b[1;31mAnalysisException\u001b[0m: [PATH_NOT_FOUND] Path does not exist: file:/C:/Users/dsant/Downloads/Estudos DNC/spark2/SparkML/drive/MyDrive/Colab Notebooks/case_final.json."
     ]
    }
   ],
   "source": [
    "from pyspark.sql.types import *\n",
    "\n",
    "schema_remetente_destinatario = StructType([\n",
    "    StructField('nome', StringType()),\n",
    "    StructField('banco', StringType()),\n",
    "    StructField('tipo', StringType())\n",
    "])\n",
    "\n",
    "schema_base_pix = StructType([\n",
    "    StructField('id_transacao', IntegerType()),\n",
    "    StructField('valor', DoubleType()),\n",
    "    StructField('remetente', schema_remetente_destinatario),\n",
    "    StructField('destinatario', schema_remetente_destinatario),\n",
    "    StructField('chave_pix', StringType()),\n",
    "    StructField('categoria', StringType()),\n",
    "    StructField('transaction_date', StringType()),\n",
    "    StructField('fraude', IntegerType())\n",
    "])\n",
    "\n",
    "caminho_json = 'drive/MyDrive/Colab Notebooks/case_final.json'\n",
    "\n",
    "df = spark.read.json(\n",
    "    caminho_json,\n",
    "    schema=schema_base_pix,\n",
    "    timestampFormat=\"yyyy-MM-dd HH:mm:ss\"\n",
    ")"
   ]
  },
  {
   "cell_type": "code",
   "execution_count": null,
   "metadata": {
    "colab": {
     "base_uri": "https://localhost:8080/"
    },
    "id": "egWW9Q3ghQbf",
    "outputId": "fb8ba941-b532-40fe-a799-d39ba6070ce2"
   },
   "outputs": [],
   "source": [
    "df.printSchema()\n",
    "\n",
    "df.show()"
   ]
  },
  {
   "cell_type": "code",
   "execution_count": null,
   "metadata": {
    "id": "x1vwYPNKiCGc"
   },
   "outputs": [],
   "source": [
    "from pyspark.sql.functions import *\n",
    "\n",
    "df_flatten = df.withColumns({\n",
    "    'destinatario_nome': col('destinatario').getField('nome'),\n",
    "    'destinatario_banco': col('destinatario').getField('banco'),\n",
    "    'destinatario_tipo': col('destinatario').getField('tipo'),\n",
    "}).drop('remetente', 'destinatario')"
   ]
  },
  {
   "cell_type": "code",
   "execution_count": null,
   "metadata": {
    "colab": {
     "base_uri": "https://localhost:8080/"
    },
    "id": "RrYiPGwsinU4",
    "outputId": "42045132-d761-4f66-a3da-db46c6768b57"
   },
   "outputs": [
    {
     "name": "stdout",
     "output_type": "stream",
     "text": [
      "root\n",
      " |-- id_transacao: integer (nullable = true)\n",
      " |-- valor: double (nullable = true)\n",
      " |-- chave_pix: string (nullable = true)\n",
      " |-- categoria: string (nullable = true)\n",
      " |-- transaction_date: string (nullable = true)\n",
      " |-- fraude: integer (nullable = true)\n",
      " |-- destinatario_nome: string (nullable = true)\n",
      " |-- destinatario_banco: string (nullable = true)\n",
      " |-- destinatario_tipo: string (nullable = true)\n",
      "\n"
     ]
    }
   ],
   "source": [
    "df_flatten.printSchema()"
   ]
  },
  {
   "cell_type": "code",
   "execution_count": null,
   "metadata": {
    "id": "uHdm1Dy4jMdg"
   },
   "outputs": [],
   "source": [
    "from pyspark.ml.feature import StringIndexer\n",
    "\n",
    "indexer = StringIndexer(\n",
    "    inputCols=[\n",
    "        'destinatario_nome',\n",
    "        'destinatario_banco',\n",
    "        'destinatario_tipo',\n",
    "        'categoria',\n",
    "        'chave_pix'\n",
    "    ],\n",
    "    outputCols=[\n",
    "        'destinatario_nome_index',\n",
    "        'destinatario_banco_index',\n",
    "        'destinatario_tipo_index',\n",
    "        'categoria_index',\n",
    "        'chave_pix_index'        \n",
    "    ]\n",
    ")\n",
    "\n",
    "df_index = indexer.fit(df_flatten).transform(df_flatten)"
   ]
  },
  {
   "cell_type": "code",
   "execution_count": null,
   "metadata": {
    "colab": {
     "base_uri": "https://localhost:8080/"
    },
    "id": "yBGOfZSckJ9c",
    "outputId": "b91fad93-843c-42ee-d66e-71ccd85f088d"
   },
   "outputs": [
    {
     "name": "stdout",
     "output_type": "stream",
     "text": [
      "root\n",
      " |-- id_transacao: integer (nullable = true)\n",
      " |-- valor: double (nullable = true)\n",
      " |-- chave_pix: string (nullable = true)\n",
      " |-- categoria: string (nullable = true)\n",
      " |-- transaction_date: string (nullable = true)\n",
      " |-- fraude: integer (nullable = true)\n",
      " |-- destinatario_nome: string (nullable = true)\n",
      " |-- destinatario_banco: string (nullable = true)\n",
      " |-- destinatario_tipo: string (nullable = true)\n",
      " |-- destinatario_nome_index: double (nullable = false)\n",
      " |-- destinatario_banco_index: double (nullable = false)\n",
      " |-- destinatario_tipo_index: double (nullable = false)\n",
      " |-- categoria_index: double (nullable = false)\n",
      " |-- chave_pix_index: double (nullable = false)\n",
      "\n"
     ]
    }
   ],
   "source": [
    "df_index.printSchema()"
   ]
  },
  {
   "cell_type": "code",
   "execution_count": null,
   "metadata": {
    "colab": {
     "base_uri": "https://localhost:8080/"
    },
    "id": "X81KVC8WkO3Z",
    "outputId": "e280b891-c044-42f9-fb7b-573f31eefe17"
   },
   "outputs": [
    {
     "name": "stdout",
     "output_type": "stream",
     "text": [
      "+------------+------------------+---------+-------------+-------------------+------+--------------------+------------------+-----------------+-----------------------+------------------------+-----------------------+---------------+---------------+\n",
      "|id_transacao|             valor|chave_pix|    categoria|   transaction_date|fraude|   destinatario_nome|destinatario_banco|destinatario_tipo|destinatario_nome_index|destinatario_banco_index|destinatario_tipo_index|categoria_index|chave_pix_index|\n",
      "+------------+------------------+---------+-------------+-------------------+------+--------------------+------------------+-----------------+-----------------------+------------------------+-----------------------+---------------+---------------+\n",
      "|        1000|            588.08|aleatoria|       outros|2021-07-16 05:00:55|     0|         Calebe Melo|             Caixa|               PF|                12045.0|                     4.0|                    1.0|            6.0|            3.0|\n",
      "|        1001|           80682.5|  celular|transferencia|2022-04-20 12:34:01|     1|  Davi Lucas Pereira|             Caixa|               PJ|                  259.0|                     4.0|                    0.0|            0.0|            2.0|\n",
      "|        1002|             549.9|      cpf|        lazer|2022-07-10 16:51:34|     0|      Sabrina Castro|            Nubank|               PF|                  132.0|                     2.0|                    1.0|            4.0|            1.0|\n",
      "|        1003|             90.83|aleatoria|   transporte|2022-10-20 10:57:36|     0|Francisco da Conc...|            Nubank|               PJ|                10475.0|                     2.0|                    0.0|            8.0|            3.0|\n",
      "|        1004|13272.619999999999|    email|transferencia|2021-04-06 20:26:51|     0|   Isabelly Ferreira|               BTG|               PJ|                 4159.0|                     1.0|                    0.0|            0.0|            0.0|\n",
      "|        1005|           9347.58|aleatoria|        saude|2022-07-24 15:22:27|     0|Srta. Maria da Cunha|              Itau|               PJ|                26853.0|                     3.0|                    0.0|            3.0|            3.0|\n",
      "|        1006|           7836.76|      cpf|    presentes|2022-10-05 19:20:24|     0|     Catarina Duarte|                C6|               PF|                 5578.0|                     5.0|                    1.0|            7.0|            1.0|\n",
      "|        1007|           3883.62|      cpf|    vestuario|2021-04-24 17:36:34|     0|       Vitor Correia|                XP|               PJ|                13528.0|                     0.0|                    0.0|            2.0|            1.0|\n",
      "|        1008|               4.0|aleatoria|        saude|2021-11-16 21:46:47|     0|         Theo Novaes|                C6|               PJ|                 1141.0|                     5.0|                    0.0|            3.0|            3.0|\n",
      "|        1009|              24.3|      cpf|transferencia|2021-07-26 02:08:49|     0|     Isabel Caldeira|                XP|               PJ|                 8369.0|                     0.0|                    0.0|            0.0|            1.0|\n",
      "|        1010|           87555.3|aleatoria|transferencia|2022-03-14 15:34:45|     1|Sr. Henrique Cardoso|            Nubank|               PF|                22115.0|                     2.0|                    1.0|            0.0|            3.0|\n",
      "|        1011|          21345.91|      cpf|transferencia|2021-10-31 04:31:51|     1|   Felipe Cavalcanti|            Nubank|               PJ|                 5897.0|                     2.0|                    0.0|            0.0|            1.0|\n",
      "|        1012|          73605.85|  celular|transferencia|2021-04-30 19:19:56|     1|     Dr. Davi da Luz|          Bradesco|               PJ|                12212.0|                     6.0|                    0.0|            0.0|            2.0|\n",
      "|        1013|             93.53|      cpf|  alimentacao|2023-01-13 13:39:57|     0|    Stephany Cardoso|                C6|               PJ|                   10.0|                     5.0|                    0.0|            1.0|            1.0|\n",
      "|        1014|            564.11|aleatoria|    vestuario|2022-05-27 23:06:08|     0|   Sra. Julia Araujo|              Itau|               PJ|                24413.0|                     3.0|                    0.0|            2.0|            3.0|\n",
      "|        1015|              3.59|    email|        saude|2021-10-06 21:19:58|     0|     Carolina Farias|            Nubank|               PJ|                10121.0|                     2.0|                    0.0|            3.0|            0.0|\n",
      "|        1016|          19164.89|    email|  alimentacao|2022-03-06 17:59:43|     0|   Isabelly da Costa|            Nubank|               PJ|                 6122.0|                     2.0|                    0.0|            1.0|            0.0|\n",
      "|        1017|             68.45|aleatoria|    vestuario|2022-04-01 18:17:40|     0|Joao Miguel Silveira|                C6|               PJ|                 6214.0|                     5.0|                    0.0|            2.0|            3.0|\n",
      "|        1018|            941.25|  celular|    vestuario|2022-05-23 00:28:13|     0|       Matheus Moura|                C6|               PF|                 1829.0|                     5.0|                    1.0|            2.0|            2.0|\n",
      "|        1019|27009.910000000003|    email|transferencia|2021-08-04 23:22:37|     1| Gabrielly Goncalves|              Itau|               PJ|                 5973.0|                     3.0|                    0.0|            0.0|            0.0|\n",
      "+------------+------------------+---------+-------------+-------------------+------+--------------------+------------------+-----------------+-----------------------+------------------------+-----------------------+---------------+---------------+\n",
      "only showing top 20 rows\n",
      "\n"
     ]
    }
   ],
   "source": [
    "df_index.show()"
   ]
  },
  {
   "cell_type": "code",
   "execution_count": null,
   "metadata": {
    "id": "5JtO9b7ukbVJ"
   },
   "outputs": [],
   "source": [
    "is_fraud = df_index.filter(\"fraude == 1\") # filter(col('fraude') == 1)\n",
    "no_fraud = df_index.filter(\"fraude == 0\")"
   ]
  },
  {
   "cell_type": "code",
   "execution_count": null,
   "metadata": {
    "id": "jm06I-Mek7k1"
   },
   "outputs": [],
   "source": [
    "no_fraud = no_fraud.sample(False, 0.01, seed=123) "
   ]
  },
  {
   "cell_type": "code",
   "execution_count": null,
   "metadata": {
    "colab": {
     "base_uri": "https://localhost:8080/"
    },
    "id": "8AO2brAilQrk",
    "outputId": "3126593b-24a4-4a7a-8b14-b29430449493"
   },
   "outputs": [
    {
     "data": {
      "text/plain": [
       "16202"
      ]
     },
     "execution_count": 15,
     "metadata": {},
     "output_type": "execute_result"
    }
   ],
   "source": [
    "df_concat = no_fraud.union(is_fraud)\n",
    "df = df_concat.sort(\"transaction_date\")\n",
    "df.count()"
   ]
  },
  {
   "cell_type": "code",
   "execution_count": null,
   "metadata": {
    "colab": {
     "base_uri": "https://localhost:8080/"
    },
    "id": "e1-LOOVTnFNd",
    "outputId": "e9a0fcfb-93a6-4627-89b4-23dbd050d9ef"
   },
   "outputs": [
    {
     "name": "stdout",
     "output_type": "stream",
     "text": [
      "train = 11278  test = 4924\n"
     ]
    }
   ],
   "source": [
    "train, test = df.randomSplit([0.7, 0.3], seed = 123)\n",
    "print(\"train =\", train.count(), \" test =\", test.count())"
   ]
  },
  {
   "cell_type": "code",
   "execution_count": null,
   "metadata": {
    "id": "-gsX3iiqn1fE"
   },
   "outputs": [],
   "source": [
    "is_fraud = udf(lambda fraud: 1.0 if fraud > 0 else 0.0, DoubleType())\n",
    "train = train.withColumn(\"is_fraud\", is_fraud(train.fraude))"
   ]
  },
  {
   "cell_type": "code",
   "execution_count": null,
   "metadata": {
    "colab": {
     "base_uri": "https://localhost:8080/"
    },
    "id": "eUKib_ktov5-",
    "outputId": "92cdb523-96d5-4b89-d218-4ba09df7c383"
   },
   "outputs": [
    {
     "name": "stdout",
     "output_type": "stream",
     "text": [
      "root\n",
      " |-- id_transacao: integer (nullable = true)\n",
      " |-- valor: double (nullable = true)\n",
      " |-- chave_pix: string (nullable = true)\n",
      " |-- categoria: string (nullable = true)\n",
      " |-- transaction_date: string (nullable = true)\n",
      " |-- fraude: integer (nullable = true)\n",
      " |-- destinatario_nome: string (nullable = true)\n",
      " |-- destinatario_banco: string (nullable = true)\n",
      " |-- destinatario_tipo: string (nullable = true)\n",
      " |-- destinatario_nome_index: double (nullable = false)\n",
      " |-- destinatario_banco_index: double (nullable = false)\n",
      " |-- destinatario_tipo_index: double (nullable = false)\n",
      " |-- categoria_index: double (nullable = false)\n",
      " |-- chave_pix_index: double (nullable = false)\n",
      " |-- is_fraud: double (nullable = true)\n",
      "\n"
     ]
    }
   ],
   "source": [
    "train.printSchema()"
   ]
  },
  {
   "cell_type": "code",
   "execution_count": null,
   "metadata": {
    "colab": {
     "base_uri": "https://localhost:8080/"
    },
    "id": "NQRRdqUuqNh0",
    "outputId": "f591705c-060c-46e0-db72-ee5c150f3ad2"
   },
   "outputs": [
    {
     "data": {
      "text/plain": [
       "['id_transacao',\n",
       " 'valor',\n",
       " 'chave_pix',\n",
       " 'categoria',\n",
       " 'transaction_date',\n",
       " 'fraude',\n",
       " 'destinatario_nome',\n",
       " 'destinatario_banco',\n",
       " 'destinatario_tipo',\n",
       " 'destinatario_nome_index',\n",
       " 'destinatario_banco_index',\n",
       " 'destinatario_tipo_index',\n",
       " 'categoria_index',\n",
       " 'chave_pix_index',\n",
       " 'is_fraud']"
      ]
     },
     "execution_count": 20,
     "metadata": {},
     "output_type": "execute_result"
    }
   ],
   "source": [
    "train.columns"
   ]
  },
  {
   "cell_type": "code",
   "execution_count": null,
   "metadata": {
    "id": "_MVFPPVVo5R5"
   },
   "outputs": [],
   "source": [
    "from pyspark.ml.classification import LogisticRegression\n",
    "from pyspark.ml.feature import VectorAssembler\n",
    "from pyspark.ml import Pipeline\n",
    "\n",
    "assembler = VectorAssembler(\n",
    "    inputCols = [x for x in train.columns if x not in ['transaction_date', 'fraude', 'is_fraud', 'destinatario_nome', 'destinatario_banco', 'destinatario_tipo', 'chave_pix', 'categoria']],\n",
    "    outputCol=\"features\"\n",
    ")"
   ]
  },
  {
   "cell_type": "code",
   "execution_count": null,
   "metadata": {
    "id": "eA0hPUP-qo-6"
   },
   "outputs": [],
   "source": [
    "lr = LogisticRegression().setParams(\n",
    "    maxIter=100000,\n",
    "    labelCol = \"is_fraud\",\n",
    "    predictionCol=\"prediction\"\n",
    ")"
   ]
  },
  {
   "cell_type": "code",
   "execution_count": null,
   "metadata": {
    "id": "J0q0ctidq6ta"
   },
   "outputs": [],
   "source": [
    "model = Pipeline(stages=[assembler, lr]).fit(train)"
   ]
  },
  {
   "cell_type": "code",
   "execution_count": null,
   "metadata": {
    "id": "rlogRzsHr0qQ"
   },
   "outputs": [],
   "source": [
    "predicted = model.transform(test)"
   ]
  },
  {
   "cell_type": "code",
   "execution_count": null,
   "metadata": {
    "colab": {
     "base_uri": "https://localhost:8080/"
    },
    "id": "FLYt6UFYtHXe",
    "outputId": "9b7a614e-5242-4a1b-e311-292dc0021474"
   },
   "outputs": [
    {
     "name": "stdout",
     "output_type": "stream",
     "text": [
      "+------------+--------+---------+-------------+-------------------+------+--------------------+------------------+-----------------+-----------------------+------------------------+-----------------------+---------------+---------------+--------------------+--------------------+--------------------+----------+\n",
      "|id_transacao|   valor|chave_pix|    categoria|   transaction_date|fraude|   destinatario_nome|destinatario_banco|destinatario_tipo|destinatario_nome_index|destinatario_banco_index|destinatario_tipo_index|categoria_index|chave_pix_index|            features|       rawPrediction|         probability|prediction|\n",
      "+------------+--------+---------+-------------+-------------------+------+--------------------+------------------+-----------------+-----------------------+------------------------+-----------------------+---------------+---------------+--------------------+--------------------+--------------------+----------+\n",
      "|        1011|21345.91|      cpf|transferencia|2021-10-31 04:31:51|     1|   Felipe Cavalcanti|            Nubank|               PJ|                 5897.0|                     2.0|                    0.0|            0.0|            1.0|[1011.0,21345.91,...|[-30.160797827833...|[7.96768091827665...|       1.0|\n",
      "|        1027|75786.55|  celular|transferencia|2021-10-20 19:39:46|     1|      Otavio Freitas|            Nubank|               PF|                  341.0|                     2.0|                    1.0|            0.0|            2.0|[1027.0,75786.55,...|[-299.98801472841...|[5.21027404298968...|       1.0|\n",
      "|        1038|86418.48|    email|transferencia|2021-11-23 13:32:51|     1|         Isis Farias|             Caixa|               PJ|                 2628.0|                     4.0|                    0.0|            0.0|            0.0|[1038.0,86418.48,...|[-359.78118686585...|[5.61068454408600...|       1.0|\n",
      "|        1066|87812.62|  celular|transferencia|2022-05-07 08:23:02|     1|       Joana Barbosa|             Caixa|               PJ|                12610.0|                     4.0|                    0.0|            0.0|            2.0|[1066.0,87812.62,...|[-373.26121044020...|[7.84722305162622...|       1.0|\n",
      "|        1069|48297.18|  celular|transferencia|2021-04-10 15:10:51|     1|          Nina Jesus|          Bradesco|               PF|                 3088.0|                     6.0|                    1.0|            0.0|            2.0|[1069.0,48297.18,...|[-154.69106359509...|[6.58452848680802...|       1.0|\n",
      "|        1100|34793.98|    email|transferencia|2021-01-17 11:59:46|     1|Dr. Luiz Gustavo ...|              Itau|               PF|                18369.0|                     3.0|                    1.0|            0.0|            0.0|[1100.0,34793.98,...|[-93.382255045787...|[2.78356858162902...|       1.0|\n",
      "|        1120|45131.35|aleatoria|transferencia|2022-01-22 01:55:24|     1|       Joaquim Cunha|              Itau|               PF|                 4262.0|                     3.0|                    1.0|            0.0|            3.0|[1120.0,45131.35,...|[-143.79458016167...|[3.55473563760052...|       1.0|\n",
      "|        1136|37926.52|  celular|transferencia|2021-12-07 19:35:51|     1|Sra. Emanuella Me...|                C6|               PJ|                24117.0|                     5.0|                    0.0|            0.0|            2.0|[1136.0,37926.52,...|[-120.30657667602...|[5.64309826622891...|       1.0|\n",
      "|        1137|54317.83|    email|transferencia|2021-08-28 10:31:35|     1|      Gabriel Farias|              Itau|               PJ|                 5945.0|                     3.0|                    0.0|            0.0|            0.0|[1137.0,54317.83,...|[-197.39364800349...|[1.87511500584799...|       1.0|\n",
      "|        1152|38907.48|  celular|transferencia|2021-02-07 04:17:16|     1|       Alice Azevedo|            Nubank|               PJ|                 1192.0|                     2.0|                    0.0|            0.0|            2.0|[1152.0,38907.48,...|[-119.55421947640...|[1.19746324807076...|       1.0|\n",
      "|        1154|32825.54|  celular|transferencia|2022-07-25 20:07:56|     1|       Caua da Costa|          Bradesco|               PJ|                 3730.0|                     6.0|                    0.0|            0.0|            2.0|[1154.0,32825.54,...|[-84.244042583120...|[2.58986527674866...|       1.0|\n",
      "|        1165| 68717.9|  celular|transferencia|2021-07-28 04:26:56|     1|   Dr. Kaique Duarte|                C6|               PF|                14147.0|                     5.0|                    1.0|            0.0|            2.0|[1165.0,68717.9,1...|[-265.61765894547...|[4.40267293556582...|       1.0|\n",
      "|        1186|47684.29|      cpf|transferencia|2021-07-09 14:17:11|     1|Dr. Gustavo Henri...|          Bradesco|               PJ|                17690.0|                     6.0|                    0.0|            0.0|            1.0|[1186.0,47684.29,...|[-165.45019414398...|[1.39924464479080...|       1.0|\n",
      "|        1193|79174.38|aleatoria|transferencia|2022-10-22 06:42:08|     1|        Calebe Porto|                C6|               PF|                 3670.0|                     5.0|                    1.0|            0.0|            3.0|[1193.0,79174.38,...|[-316.04751387764...|[5.52470004558393...|       1.0|\n",
      "|        1232|48993.64|      cpf|transferencia|2021-12-06 08:48:14|     1|Srta. Isadora Nas...|                XP|               PJ|                26324.0|                     0.0|                    0.0|            0.0|            1.0|[1232.0,48993.64,...|[-183.46379965997...|[2.10224911666693...|       1.0|\n",
      "|        1234|42959.57|  celular|transferencia|2021-04-16 23:50:25|     1|Maria Eduarda Car...|                C6|               PF|                   55.0|                     5.0|                    1.0|            0.0|            2.0|[1234.0,42959.57,...|[-127.25645860518...|[5.41031113602127...|       1.0|\n",
      "|        1283|36345.31|  celular|transferencia|2021-08-08 19:37:56|     1|    Rafaela Teixeira|            Nubank|               PJ|                 4920.0|                     2.0|                    0.0|            0.0|            2.0|[1283.0,36345.31,...|[-107.95175952227...|[1.30962370576759...|       1.0|\n",
      "|        1305|85179.93|      cpf|transferencia|2021-03-07 10:57:20|     1|  Dra. Mirella Moura|               BTG|               PF|                14765.0|                     1.0|                    1.0|            0.0|            1.0|[1305.0,85179.93,...|[-354.57510761948...|[1.02326316440861...|       1.0|\n",
      "|        1320|77228.12|  celular|transferencia|2021-10-21 06:14:15|     1|        Sophie Rocha|                XP|               PJ|                 3225.0|                     0.0|                    0.0|            0.0|            2.0|[1320.0,77228.12,...|[-320.01225539290...|[1.04819803554622...|       1.0|\n",
      "|        1331|71392.99|      cpf|transferencia|2021-12-24 17:29:48|     1|        Yuri Pereira|              Itau|               PF|                 7357.0|                     3.0|                    1.0|            0.0|            1.0|[1331.0,71392.99,...|[-278.02304570884...|[1.80353845477025...|       1.0|\n",
      "+------------+--------+---------+-------------+-------------------+------+--------------------+------------------+-----------------+-----------------------+------------------------+-----------------------+---------------+---------------+--------------------+--------------------+--------------------+----------+\n",
      "only showing top 20 rows\n",
      "\n"
     ]
    }
   ],
   "source": [
    "predicted.show()"
   ]
  },
  {
   "cell_type": "code",
   "execution_count": null,
   "metadata": {
    "colab": {
     "base_uri": "https://localhost:8080/"
    },
    "id": "OIzOAZX_tQ10",
    "outputId": "aebbd365-b8b7-47f3-c980-e729defb60da"
   },
   "outputs": [
    {
     "name": "stdout",
     "output_type": "stream",
     "text": [
      "+-------------------+---+----+\n",
      "|is_fraud_prediction|0.0| 1.0|\n",
      "+-------------------+---+----+\n",
      "|                1.0|  0|4682|\n",
      "|                0.0|242|   0|\n",
      "+-------------------+---+----+\n",
      "\n"
     ]
    }
   ],
   "source": [
    "predicted = predicted.withColumn('is_fraud', is_fraud(predicted.fraude))\n",
    "predicted.crosstab('is_fraud', 'prediction').show()"
   ]
  },
  {
   "cell_type": "code",
   "execution_count": null,
   "metadata": {
    "id": "coDjpk8Huryx"
   },
   "outputs": [],
   "source": [
    "df_teste_cols = [\n",
    "    'id_transacao',\n",
    "    'valor', \n",
    "    'transaction_date',\n",
    "    'destinatario_nome_index',\n",
    "    'destinatario_banco_index',\n",
    "    'destinatario_tipo_index',\n",
    "    'chave_pix_index',\n",
    "    'categoria_index',\n",
    "    'fraude'\n",
    "]\n",
    "\n",
    "df_teste_data = [\n",
    "    (999,103.2, \"2023-01-01 11:56:41\", 328.0, 4.0, 1.0, 3.0, 5.0, 0),\n",
    "    (998, 500000.0, \"2023-01-01 11:56:41\", 328.0, 2.0, 3.0, 2.0, 5.0, 1),\n",
    "    (997, 19999.0, \"2023-01-01 11:56:41\", 328.0, 1.0, 2.0, 1.0, 5.0, 0),\n",
    "]\n",
    "\n",
    "df_teste = spark.createDataFrame(df_teste_data).toDF(*df_teste_cols)"
   ]
  },
  {
   "cell_type": "code",
   "execution_count": null,
   "metadata": {
    "id": "rXiMry7KvqU3"
   },
   "outputs": [],
   "source": [
    "new_prediction = model.transform(df_teste)"
   ]
  },
  {
   "cell_type": "code",
   "execution_count": null,
   "metadata": {
    "colab": {
     "base_uri": "https://localhost:8080/"
    },
    "id": "9pi0dqd-v6ue",
    "outputId": "76047609-3adc-49ab-9b31-d23356f5ae9b"
   },
   "outputs": [
    {
     "name": "stdout",
     "output_type": "stream",
     "text": [
      "+------------+--------+-------------------+-----------------------+------------------------+-----------------------+---------------+---------------+------+--------------------+--------------------+-----------+----------+\n",
      "|id_transacao|   valor|   transaction_date|destinatario_nome_index|destinatario_banco_index|destinatario_tipo_index|chave_pix_index|categoria_index|fraude|            features|       rawPrediction|probability|prediction|\n",
      "+------------+--------+-------------------+-----------------------+------------------------+-----------------------+---------------+---------------+------+--------------------+--------------------+-----------+----------+\n",
      "|         999|   103.2|2023-01-01 11:56:41|                  328.0|                     4.0|                    1.0|            3.0|            5.0|     0|[999.0,103.2,328....|[426.491663444370...|  [1.0,0.0]|       0.0|\n",
      "|         998|500000.0|2023-01-01 11:56:41|                  328.0|                     2.0|                    3.0|            2.0|            5.0|     1|[998.0,500000.0,3...|[-2127.7942951779...|  [0.0,1.0]|       1.0|\n",
      "|         997| 19999.0|2023-01-01 11:56:41|                  328.0|                     1.0|                    2.0|            1.0|            5.0|     0|[997.0,19999.0,32...|[331.314039852525...|  [1.0,0.0]|       0.0|\n",
      "+------------+--------+-------------------+-----------------------+------------------------+-----------------------+---------------+---------------+------+--------------------+--------------------+-----------+----------+\n",
      "\n"
     ]
    }
   ],
   "source": [
    "new_prediction.show()"
   ]
  }
 ],
 "metadata": {
  "colab": {
   "provenance": []
  },
  "kernelspec": {
   "display_name": "Python 3 (ipykernel)",
   "language": "python",
   "name": "python3"
  },
  "language_info": {
   "codemirror_mode": {
    "name": "ipython",
    "version": 3
   },
   "file_extension": ".py",
   "mimetype": "text/x-python",
   "name": "python",
   "nbconvert_exporter": "python",
   "pygments_lexer": "ipython3",
   "version": "3.9.13"
  }
 },
 "nbformat": 4,
 "nbformat_minor": 1
}
